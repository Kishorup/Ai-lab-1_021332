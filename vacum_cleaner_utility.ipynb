{
  "nbformat": 4,
  "nbformat_minor": 0,
  "metadata": {
    "colab": {
      "provenance": []
    },
    "kernelspec": {
      "name": "python3",
      "display_name": "Python 3"
    },
    "language_info": {
      "name": "python"
    }
  },
  "cells": [
    {
      "cell_type": "code",
      "execution_count": 3,
      "metadata": {
        "colab": {
          "base_uri": "https://localhost:8080/"
        },
        "id": "JSBYVR9g0cln",
        "outputId": "8592deaa-0565-493d-9b49-466088701005"
      },
      "outputs": [
        {
          "output_type": "stream",
          "name": "stdout",
          "text": [
            "3\n",
            "4\n",
            "Initial grid state:\n",
            "1 0 1 0\n",
            "1 1 1 1\n",
            "0 1 0 0\n",
            "\n",
            "Initial Position: Room[2, 0]\n",
            "Step 1: Moved to Room[1, 0].\n",
            "Step 2: Cleaned Room[1, 0].\n",
            "Step 3: Moved to Room[0, 0].\n",
            "Step 4: Cleaned Room[0, 0].\n",
            "Step 5: Moved to Room[0, 1].\n",
            "Step 6: Moved to Room[0, 2].\n",
            "Step 7: Cleaned Room[0, 2].\n",
            "Step 8: Moved to Room[1, 2].\n",
            "Step 9: Cleaned Room[1, 2].\n",
            "Step 10: Moved to Room[1, 1].\n",
            "Step 11: Cleaned Room[1, 1].\n",
            "Step 12: Moved to Room[2, 1].\n",
            "Step 13: Cleaned Room[2, 1].\n",
            "Step 14: Moved to Room[1, 1].\n",
            "Step 15: Moved to Room[1, 2].\n",
            "Step 16: Moved to Room[1, 3].\n",
            "Step 17: Cleaned Room[1, 3].\n",
            "\n",
            "All rooms clean! Total steps = 17\n"
          ]
        }
      ],
      "source": [
        "import random\n",
        "\n",
        "def abs_val(a):\n",
        "    return abs(a)\n",
        "\n",
        "x = int(input())\n",
        "y = int(input())\n",
        "grid = [[random.randint(0, 1) for _ in range(y)] for _ in range(x)]\n",
        "\n",
        "print(\"Initial grid state:\")\n",
        "for row in grid:\n",
        "    print(' '.join(map(str, row)))\n",
        "\n",
        "posX = random.randint(0, x-1)\n",
        "posY = random.randint(0, y-1)\n",
        "steps = 0\n",
        "\n",
        "print(f\"\\nInitial Position: Room[{posX}, {posY}]\")\n",
        "\n",
        "while True:\n",
        "    if grid[posX][posY] == 1:\n",
        "        grid[posX][posY] = 0\n",
        "        steps += 1\n",
        "        print(f\"Step {steps}: Cleaned Room[{posX}, {posY}].\")\n",
        "    else:\n",
        "        minDist = float('inf')\n",
        "        targetX = -1\n",
        "        targetY = -1\n",
        "        for i in range(x):\n",
        "            for j in range(y):\n",
        "                if grid[i][j] == 1:\n",
        "                    dist = abs_val(i - posX) + abs_val(j - posY)\n",
        "                    if dist < minDist:\n",
        "                        minDist = dist\n",
        "                        targetX = i\n",
        "                        targetY = j\n",
        "        if targetX == -1:\n",
        "            break\n",
        "        if targetX > posX:\n",
        "            posX += 1\n",
        "        elif targetX < posX:\n",
        "            posX -= 1\n",
        "        elif targetY > posY:\n",
        "            posY += 1\n",
        "        elif targetY < posY:\n",
        "            posY -= 1\n",
        "        steps += 1\n",
        "        print(f\"Step {steps}: Moved to Room[{posX}, {posY}].\")\n",
        "\n",
        "print(f\"\\nAll rooms clean! Total steps = {steps}\")"
      ]
    }
  ]
}