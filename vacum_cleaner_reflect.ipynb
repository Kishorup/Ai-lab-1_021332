{
  "nbformat": 4,
  "nbformat_minor": 0,
  "metadata": {
    "colab": {
      "provenance": []
    },
    "kernelspec": {
      "name": "python3",
      "display_name": "Python 3"
    },
    "language_info": {
      "name": "python"
    }
  },
  "cells": [
    {
      "cell_type": "code",
      "execution_count": 1,
      "metadata": {
        "colab": {
          "base_uri": "https://localhost:8080/"
        },
        "id": "jexnGe2B0AQp",
        "outputId": "c61731fb-20c3-48f8-8e5a-a705e9885aba"
      },
      "outputs": [
        {
          "output_type": "stream",
          "name": "stdout",
          "text": [
            "3\n",
            "4\n",
            "\n",
            "Initial grid state:\n",
            "1 1 1 0\n",
            "1 0 0 1\n",
            "1 1 1 0\n",
            "\n",
            "Initial Position: Room[0, 2]\n",
            "Step 1: Cleaned Room[0, 2].\n",
            "Step 2: Moved to Room[0, 1].\n",
            "Step 3: Cleaned Room[0, 1].\n",
            "Step 4: Moved to Room[0, 1].\n",
            "Step 5: Moved to Room[0, 1].\n",
            "Step 6: Moved to Room[1, 1].\n",
            "Step 7: Moved to Room[0, 2].\n",
            "Step 8: Moved to Room[0, 1].\n",
            "Step 9: Moved to Room[1, 2].\n",
            "Step 10: Moved to Room[0, 3].\n",
            "Step 11: Moved to Room[0, 3].\n",
            "Step 12: Moved to Room[0, 3].\n",
            "Step 13: Moved to Room[0, 2].\n",
            "Step 14: Moved to Room[0, 2].\n",
            "Step 15: Moved to Room[0, 1].\n",
            "Step 16: Moved to Room[0, 0].\n",
            "Step 17: Cleaned Room[0, 0].\n",
            "Step 18: Moved to Room[0, 1].\n",
            "Step 19: Moved to Room[0, 1].\n",
            "Step 20: Moved to Room[1, 0].\n",
            "Step 21: Cleaned Room[1, 0].\n",
            "Step 22: Moved to Room[1, 0].\n",
            "Step 23: Moved to Room[2, 1].\n",
            "Step 24: Cleaned Room[2, 1].\n",
            "Step 25: Moved to Room[2, 1].\n",
            "Step 26: Moved to Room[2, 1].\n",
            "Step 27: Moved to Room[2, 0].\n",
            "Step 28: Cleaned Room[2, 0].\n",
            "Step 29: Moved to Room[2, 1].\n",
            "Step 30: Moved to Room[2, 1].\n",
            "Step 31: Moved to Room[1, 0].\n",
            "Step 32: Moved to Room[0, 1].\n",
            "Step 33: Moved to Room[0, 2].\n",
            "Step 34: Moved to Room[1, 3].\n",
            "Step 35: Cleaned Room[1, 3].\n",
            "Step 36: Moved to Room[0, 2].\n",
            "Step 37: Moved to Room[1, 3].\n",
            "Step 38: Moved to Room[2, 2].\n",
            "Step 39: Cleaned Room[2, 2].\n",
            "\n",
            "All rooms clean! Total steps = 39\n"
          ]
        }
      ],
      "source": [
        "import random\n",
        "\n",
        "x = int(input())\n",
        "y = int(input())\n",
        "\n",
        "grid = [[random.randint(0, 1) for _ in range(y)] for _ in range(x)]\n",
        "\n",
        "print(\"\\nInitial grid state:\")\n",
        "for row in grid:\n",
        "    print(' '.join(map(str, row)))\n",
        "\n",
        "posX = random.randint(0, x - 1)\n",
        "posY = random.randint(0, y - 1)\n",
        "steps = 0\n",
        "\n",
        "print(f\"\\nInitial Position: Room[{posX}, {posY}]\")\n",
        "\n",
        "while True:\n",
        "    if grid[posX][posY] == 1:\n",
        "        grid[posX][posY] = 0\n",
        "        steps += 1\n",
        "        print(f\"Step {steps}: Cleaned Room[{posX}, {posY}].\")\n",
        "    else:\n",
        "        while True:\n",
        "            dx = random.randint(-1, 1)\n",
        "            dy = random.randint(-1, 1)\n",
        "            newX = posX + dx\n",
        "            newY = posY + dy\n",
        "            if 0 <= newX < x and 0 <= newY < y:\n",
        "                break\n",
        "        posX = newX\n",
        "        posY = newY\n",
        "        steps += 1\n",
        "        print(f\"Step {steps}: Moved to Room[{posX}, {posY}].\")\n",
        "\n",
        "    if all(cell == 0 for row in grid for cell in row):\n",
        "        break\n",
        "\n",
        "print(f\"\\nAll rooms clean! Total steps = {steps}\")\n"
      ]
    }
  ]
}