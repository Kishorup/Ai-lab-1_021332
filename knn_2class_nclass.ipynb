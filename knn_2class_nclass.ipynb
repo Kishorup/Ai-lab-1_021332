{
  "nbformat": 4,
  "nbformat_minor": 0,
  "metadata": {
    "colab": {
      "provenance": []
    },
    "kernelspec": {
      "name": "python3",
      "display_name": "Python 3"
    },
    "language_info": {
      "name": "python"
    }
  },
  "cells": [
    {
      "cell_type": "code",
      "execution_count": 3,
      "metadata": {
        "colab": {
          "base_uri": "https://localhost:8080/"
        },
        "id": "6J2hzXhZ1fmx",
        "outputId": "c90405c0-421b-4ca7-dc13-b4eadc36ef38"
      },
      "outputs": [
        {
          "output_type": "stream",
          "name": "stdout",
          "text": [
            "Enter age: 85\n",
            "Enter monthly income (NPR): 65555\n",
            "\n",
            "Predict using 2-class dataset:\n",
            "Predicted jeans type: Regular\n",
            "\n",
            "Predict using n-class dataset:\n",
            "Predicted jeans type: Loose\n"
          ]
        }
      ],
      "source": [
        "import math\n",
        "\n",
        "dataset_2class = [\n",
        "    {'age': 18, 'income': 10000, 'jeans_type': \"Skinny\"},\n",
        "    {'age': 21, 'income': 15000, 'jeans_type': \"Skinny\"},\n",
        "    {'age': 25, 'income': 20000, 'jeans_type': \"Regular\"},\n",
        "    {'age': 28, 'income': 22000, 'jeans_type': \"Regular\"},\n",
        "]\n",
        "\n",
        "dataset_nclass = [\n",
        "    {'age': 18, 'income': 10000, 'jeans_type': \"Skinny\"},\n",
        "    {'age': 21, 'income': 15000, 'jeans_type': \"Bootcut\"},\n",
        "    {'age': 25, 'income': 20000, 'jeans_type': \"Regular\"},\n",
        "    {'age': 28, 'income': 22000, 'jeans_type': \"Relaxed\"},\n",
        "    {'age': 30, 'income': 25000, 'jeans_type': \"Bootcut\"},\n",
        "    {'age': 35, 'income': 27000, 'jeans_type': \"Loose\"},\n",
        "    {'age': 40, 'income': 30000, 'jeans_type': \"Relaxed\"},\n",
        "    {'age': 45, 'income': 35000, 'jeans_type': \"Loose\"},\n",
        "]\n",
        "\n",
        "K = 3\n",
        "\n",
        "def compute_distance(age1, income1, age2, income2):\n",
        "    return math.sqrt((age1 - age2)**2 + (income1 - income2)**2)\n",
        "\n",
        "def predict_jeans_type(age, income, dataset, k=3):\n",
        "    neighbors = []\n",
        "    for data in dataset:\n",
        "        dist = compute_distance(age, income, data['age'], data['income'])\n",
        "        neighbors.append( (dist, data['jeans_type']) )\n",
        "    neighbors.sort(key=lambda x: x[0])\n",
        "    k_nearest = neighbors[:k]\n",
        "\n",
        "    freq = {}\n",
        "    for _, jeans_type in k_nearest:\n",
        "        freq[jeans_type] = freq.get(jeans_type, 0) + 1\n",
        "\n",
        "    predicted = max(freq, key=freq.get)\n",
        "    return predicted\n",
        "\n",
        "def main():\n",
        "    age = int(input(\"Enter age: \"))\n",
        "    income = int(input(\"Enter monthly income (NPR): \"))\n",
        "\n",
        "    print(\"\\nPredict using 2-class dataset:\")\n",
        "    prediction_2class = predict_jeans_type(age, income, dataset_2class, K)\n",
        "    print(\"Predicted jeans type:\", prediction_2class)\n",
        "\n",
        "    print(\"\\nPredict using n-class dataset:\")\n",
        "    prediction_nclass = predict_jeans_type(age, income, dataset_nclass, K)\n",
        "    print(\"Predicted jeans type:\", prediction_nclass)\n",
        "\n",
        "if __name__ == \"__main__\":\n",
        "    main()\n"
      ]
    }
  ]
}