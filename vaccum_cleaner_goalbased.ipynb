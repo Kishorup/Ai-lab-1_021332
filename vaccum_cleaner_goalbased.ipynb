{
  "nbformat": 4,
  "nbformat_minor": 0,
  "metadata": {
    "colab": {
      "provenance": []
    },
    "kernelspec": {
      "name": "python3",
      "display_name": "Python 3"
    },
    "language_info": {
      "name": "python"
    }
  },
  "cells": [
    {
      "cell_type": "code",
      "execution_count": null,
      "metadata": {
        "colab": {
          "base_uri": "https://localhost:8080/"
        },
        "id": "DzGsm1Wtwc4a",
        "outputId": "1c06866d-d949-4554-d43d-f492f5198e3d"
      },
      "outputs": [
        {
          "output_type": "stream",
          "name": "stdout",
          "text": [
            "3\n",
            "4\n",
            "\n",
            "Initial grid state:\n",
            "1 1 1 0\n",
            "1 0 1 0\n",
            "0 0 0 1\n",
            "\n",
            "Cleaning Completed!\n",
            "Total steps taken: 11\n",
            "Initial Position: Room(0, 1)\n",
            "Visited and cleaned rooms: [(0, 1), (0, 0), (0, 0), (1, 0), (1, 0), (0, 2), (0, 2), (1, 2), (1, 2), (2, 3), (2, 3)]\n",
            "\n",
            "Final grid state:\n",
            "0 0 0 0\n",
            "0 0 0 0\n",
            "0 0 0 P\n"
          ]
        }
      ],
      "source": [
        "import random\n",
        "\n",
        "x = int(input())\n",
        "y = int(input())\n",
        "\n",
        "grid = [[random.randint(0, 1) for _ in range(y)] for _ in range(x)]\n",
        "\n",
        "print(\"\\nInitial grid state:\")\n",
        "for row in grid:\n",
        "    print(' '.join(map(str, row)))\n",
        "\n",
        "initial_pos = [random.randint(0, x - 1), random.randint(0, y - 1)]\n",
        "start_pos = tuple(initial_pos)\n",
        "\n",
        "directions = [\n",
        "    (-1, -1), (-1, 0), (-1, 1),\n",
        "    (0, -1),          (0, 1),\n",
        "    (1, -1),  (1, 0), (1, 1)\n",
        "]\n",
        "\n",
        "steps = 0\n",
        "visited = []\n",
        "\n",
        "while True:\n",
        "    i, j = initial_pos\n",
        "    if grid[i][j] == 1:\n",
        "        grid[i][j] = 0\n",
        "        steps += 1\n",
        "        visited.append((i, j))\n",
        "    else:\n",
        "        moved = False\n",
        "        for dx, dy in directions:\n",
        "            ni, nj = i + dx, j + dy\n",
        "            if 0 <= ni < x and 0 <= nj < y and grid[ni][nj] == 1:\n",
        "                initial_pos = [ni, nj]\n",
        "                steps += 1\n",
        "                visited.append((ni, nj))\n",
        "                moved = True\n",
        "                break\n",
        "        if not moved:\n",
        "            found = False\n",
        "            for a in range(x):\n",
        "                for b in range(y):\n",
        "                    if grid[a][b] == 1:\n",
        "                        initial_pos = [a, b]\n",
        "                        steps += 1\n",
        "                        visited.append((a, b))\n",
        "                        found = True\n",
        "                        break\n",
        "                if found:\n",
        "                    break\n",
        "            if not found:\n",
        "                break\n",
        "\n",
        "print(\"\\nCleaning Completed!\")\n",
        "print(f\"Total steps taken: {steps}\")\n",
        "print(f\"Initial Position: Room{start_pos}\")\n",
        "print(f\"Visited and cleaned rooms: {visited}\")\n",
        "\n",
        "print(\"\\nFinal grid state:\")\n",
        "for i in range(x):\n",
        "    row = \"\"\n",
        "    for j in range(y):\n",
        "        if [i, j] == initial_pos:\n",
        "            row += \"P \"\n",
        "        else:\n",
        "            row += f\"{grid[i][j]} \"\n",
        "    print(row.strip())\n"
      ]
    }
  ]
}